{
 "cells": [
  {
   "cell_type": "raw",
   "id": "00598f2b",
   "metadata": {},
   "source": [
    "---\n",
    "title: Limits of the Quantitative Approach to Bias and Fairness\n",
    "bibliography: refs.bib\n",
    "author: Bridget Ulian\n",
    "date: '2023-03-30'\n",
    "description: \"An essay assessing Narayanan's statement that current quantitative methods justify the status quo, and that they do more harm than good.\"\n",
    "format: html\n",
    "---"
   ]
  },
  {
   "cell_type": "markdown",
   "id": "96e89b71",
   "metadata": {},
   "source": [
    "# The Addition of Qualitative Research to Quantitative Research: Helping Empirically Determine Inequity\n",
    "\n",
    "\n",
    "<p style=\"text-align: center;\">“Currently quantitative methods are primarily used to justify the status quo. I would argue that they do more harm than good” - Narayanan</p>\n",
    "\n",
    "\n",
    "## Introduction\n",
    "\n",
    "&emsp;In his 2022 James Baldwin Speech Arvind Narayanan argues that quantitative research requires significant reform including reshaping the assumed status quo, use alongside and with the same legitimacy as qualitative methods, and deeper consideration beyond their ‘objective’ facade. He goes through each of his criticisms with the precision of a quantitative researcher, seeing as he is one. Narayanan is correct in his statement that quantitative methods are primarily used right now to justify the status quo, but he does not offer enough grace to the current use quantitative methods have alongside qualitative methods, especially in verifying the experiences and legitimacy of qualitative methods to policymakers, health professionals, and other people in positions of power. While it may be problematic that quantitative methods are needed to verify lived experiences, it is important to note that qualitative methods alone also cannot justify significant decisions, especially regarding taxpayers’ money. The importance of quantitative methods comes from their use alongside qualitative methods, giving decision makers multiple methods of reaching a conclusion; quantitative methods offer one pathway and qualitative methods another, and together they build a logical, not objective, decision path.\n",
    "\n",
    "## Narayanan's Argument\n",
    "\n",
    "&emsp;Narayanan’s argument calls for a complete change in how academics, decision-makers, and everyday people approach quantitative research. One reform requires a shift in how researchers observe the status quo; as Narayanan argues, “baked into the practice of quantitative methods is a worldview that sees the status quo as unproblematic” [@limitsnarayanan, pp. 3]. This status quo is an issue because it leads to a null hypothesis that discrimination does not exist [@limitsnarayanan, pp. 7]. When the null hypothesis is discrimination does not exist, the burden is on the research to prove that discrimination does exist. If a different null hypothesis (or status quo) was utilized, the burden on the research would be to prove that discrimination doesn’t exist. Another example of how the status quo affects quantitative research has to do with how data is collected: from a single time frame. Single time frames do not capture the history of oppression and day-to-day inequalities that compound greater inequalities [@limitsnarayanan, pp. 10]. With a shift in the status quo to understand that discrimination is the standard rather than non-discrimination as well as an understanding that inequalities compound over time, quantitative methods can become more accurate and helpful.\n",
    "\n",
    "&emsp;Another reform Narayanan suggests is that quantitative methods are held to the same level of legitimacy as quantitative methods. He argues that quantitative methods are not “an alternative to democratic debate about our values” and that currently “policy makers take quantitative methods far more seriously than other forms of evidence” [@limitsnarayanan, pp. 17]. There are a few different arguments here; one is that quantitative methods and qualitative methods need to be used hand-in-hand when making decisions regarding discrimination. Another is that policymakers need to be more open-minded to qualitative methods as a legitimate form of evidence. Both of them necessitate researchers and the public to understand the value of qualitative methods and accept qualitative research as equally valid in comparison to quantitative methods. This reform feeds directly into his last suggestion, that consumers, researchers, and decision-makers understand the subjective decisions that go into quantitative research. A significant aspect of this is dataset curation, understanding that datasets often determine the research question or that datasets can be provided by the company being investigated in the research [@limitsnarayanan, pp. 11]. By spending time “curating and interrogating datasets,” researchers can provide a more thorough understanding of their conclusions [@limitsnarayanan, pp. 21]. Essentially, in order to make quantitative methods do more good than harm, researchers, the public, and decision-makers will have to change the way they think about the status quo, objectivity in quantitative research, and qualitative methods. \n",
    "\n",
    "\n",
    "## Benefits and Uses to Quantitative Methodologies: Case Studies\n",
    "\n",
    "\n",
    "&emsp;Narayanan does not have a lot of good to say about quantitative research. However, many quantitative and qualitative researchers have extolled quantitative research for providing a validating role to qualitative research, for increasing in strength when working from a different status quo or introducing the certainty of subconscious biases, and for its power in influencing policymakers and other decision-makers. Quantitative researchers, as well as qualitative researchers, have proved multiple times that they are attempting to achieve well-rounded conclusions that exemplify the holistic and complex structures of discrimination. As far back as 1984, quantitative researchers have been trying to make their methods more holistic, as seen in a study by Ragin, Mayer, and Draas. In 1984, studies of discrimination and structural racism were not as far along as they are today, but the three researchers were still trying to find a comparative and holistic way to assume the complexity of discrimination in quantitative methods [@10.2307/2095572, pp. 228]. Another study on transgender healthcare melds qualitative and quantitative research together to demonstrate significant disparities in levels of depression between cis- and transgender women, then utilizes qualitative research to suggest measures nurses can take to support transgender women [@https://doi.org/10.1111/jocn.13913, pp.4083]. \n",
    "\n",
    "&emsp;When quantitative researchers shift the status quo and admit to subconscious biases affecting their research, they increase the potency of quantitative methods by ensuring the audience scrutinizes the conclusion beyond objectivity. For example, seeking out new data sources to try and find understudied aspects of structural racism is a way to challenge the status quo [@doi:10.1377/hlthaff.2021.01489, pp.183]. These five researchers made their own data sets after observing how much structural racism quantitative research utilizes census population estimates which do not contain any context [@doi:10.1377/hlthaff.2021.01489, pp.183]. They wanted to reflect the multidimensionality that comes with many forms of structural racism sharing the same pathway and interacting with each other. When quantitative researchers look to change the status quo and create research that reflects the external context and multidimensionality of discrimination, they can create very powerful results. When researchers admit to subconscious biases like Katsiaficas, Volpe, Benson, and Zelaya Rivera when they say “the authors come from White, Arab American, Latinx, and first-generation African American backgrounds and brought a variety of lived experiences to this work,” they inject the research with the same amount of subjectivity that qualitative research contains [@mixedmethodsinvestigation, pp.690]. They force the audience to reconsider their opinion that quantitative research is objective.\n",
    "\n",
    "\n",
    "&emsp;Finally, quantitative methods help inform policymakers and decision-makers when making critical decisions. Qualitative methods are one way to look at structural racism, but quantitative methods are also “crucially important to our understanding of the ways in which structured racism is perceived and experienced” [@measuringinequity, pp.201]. There have been calls for researchers to identify structural racism as a root cause of racial health inequity, meaning the “development of sound measures of structural racism is an urgent public health issue” [@doi:10.1377/hlthaff.2021.01489, pp.180]. This is not to say that quantitative methods alone are necessary for aiding policymakers, but it is to say that policymakers and others in power must use quantitative methods alongside qualitative methods to justify their decisions. These quantitative methods need to connect historical and contemporary forms of structural racism, they need to be used in conjunction with qualitative methods, but they are necessary for justifying significant decisions [@doi:10.1377/hlthaff.2021.01489, pp.181].\n",
    "\n",
    "## My Perspective\n",
    "\n",
    "&emsp;This last argument on the importance of quantitative methods in helping persons in power make decisions leads directly to my argument; Narayanan is generally correct in stating that quantitative methods reinforce the status quo and do more harm than good. However, there are many examples of how to utilize quantitative methods in a way that doesn’t reinforce the status quo, and these examples are necessary as decision-makers must lean on quantitative research (alongside qualitative) when making decisions that have a significant impact on people’s lives. Relying solely on qualitative methods would not lead decision-makers to a ‘best’ conclusion any more than relying solely on quantitative methods would. However, utilizing the two in conjunction with each other gives decision-makers both vivid accounts of lived experiences and patterns in data as well as numeric measurements of those lived experiences. This does not promote quantitative methods over qualitative methods, nor does it assume quantitative methods are any more objective or true than qualitative methods. It creates room for democratic debate using multiple types of information. With this democratic debate, drawn from multiple types of data collection and assessment, decision-makers have the authority to determine a conclusion, one which may change as different quantitative and qualitative research continues to become available. \n",
    "\n",
    "\n",
    "&emsp;From Narayanan’s argument, it is clear quantitative researchers have a long way to go. However, from the five scholarly arguments cited throughout this paper, there are a lot of examples of how quantitative research can do more good than harm. Quantitative research can be very effective in use alongside qualitative research, particularly when researchers confront head-on the subjective decisions, harmful status quo, and subconscious biases they bring into their research. This is something that, as Narayanan himself explains, is very feasible; the psychology field has begun to “explicitly acknowledge that scientists have their biases, their pet theories, their favored and hoped-for conclusions” [@limitsnarayanan, pp. 8]. With something as simple as that, the psychology field has changed how their audience reads research; they have ensured audiences understand the non-objectivity of their research. This demonstrates hope for quantitative research going forward, especially in the realm of discrimination and inequity. \n",
    "\n"
   ]
  },
  {
   "cell_type": "code",
   "execution_count": null,
   "id": "5da6ab60",
   "metadata": {},
   "outputs": [],
   "source": []
  },
  {
   "cell_type": "code",
   "execution_count": null,
   "id": "b31f4a3e",
   "metadata": {},
   "outputs": [],
   "source": []
  }
 ],
 "metadata": {
  "kernelspec": {
   "display_name": "Python 3 (ipykernel)",
   "language": "python",
   "name": "python3"
  },
  "language_info": {
   "codemirror_mode": {
    "name": "ipython",
    "version": 3
   },
   "file_extension": ".py",
   "mimetype": "text/x-python",
   "name": "python",
   "nbconvert_exporter": "python",
   "pygments_lexer": "ipython3",
   "version": "3.9.16"
  }
 },
 "nbformat": 4,
 "nbformat_minor": 5
}
